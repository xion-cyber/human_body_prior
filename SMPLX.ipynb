{
 "cells": [
  {
   "cell_type": "code",
   "execution_count": 1,
   "id": "30bfefb2-dc8f-4ee3-866a-ec7712945ac4",
   "metadata": {},
   "outputs": [],
   "source": [
    "import numpy as np"
   ]
  },
  {
   "cell_type": "code",
   "execution_count": 17,
   "id": "ff3180df-1944-4153-951c-b91ea3eb1fde",
   "metadata": {},
   "outputs": [],
   "source": [
    "smplx_npz = np.load('/home/yeyiqi/Documents/models/SMPLX/models_smplx_v1_1/models/smplx/SMPLX_NEUTRAL.npz', allow_pickle=True)"
   ]
  },
  {
   "cell_type": "code",
   "execution_count": 18,
   "id": "82bf9cd6-80b4-44af-aaad-9ea6e7c9de8a",
   "metadata": {
    "scrolled": true
   },
   "outputs": [
    {
     "data": {
      "text/plain": [
       "['hands_meanr',\n",
       " 'hands_meanl',\n",
       " 'lmk_bary_coords',\n",
       " 'vt',\n",
       " 'posedirs',\n",
       " 'part2num',\n",
       " 'hands_coeffsr',\n",
       " 'lmk_faces_idx',\n",
       " 'J_regressor',\n",
       " 'dynamic_lmk_faces_idx',\n",
       " 'hands_componentsr',\n",
       " 'shapedirs',\n",
       " 'dynamic_lmk_bary_coords',\n",
       " 'ft',\n",
       " 'hands_componentsl',\n",
       " 'joint2num',\n",
       " 'v_template',\n",
       " 'allow_pickle',\n",
       " 'f',\n",
       " 'hands_coeffsl',\n",
       " 'kintree_table',\n",
       " 'weights']"
      ]
     },
     "execution_count": 18,
     "metadata": {},
     "output_type": "execute_result"
    }
   ],
   "source": [
    "smplx_npz.files"
   ]
  },
  {
   "cell_type": "code",
   "execution_count": 29,
   "id": "aeb81c66-933d-4897-94c2-49131dee3950",
   "metadata": {},
   "outputs": [
    {
     "data": {
      "text/plain": [
       "(45,)"
      ]
     },
     "execution_count": 29,
     "metadata": {},
     "output_type": "execute_result"
    }
   ],
   "source": [
    "smplx_npz['hands_meanr'].shape"
   ]
  },
  {
   "cell_type": "code",
   "execution_count": 27,
   "id": "9a9139e2-ad81-49d3-a9fa-bbc2a6c8cdbd",
   "metadata": {
    "scrolled": true
   },
   "outputs": [
    {
     "data": {
      "text/plain": [
       "(51, 3)"
      ]
     },
     "execution_count": 27,
     "metadata": {},
     "output_type": "execute_result"
    }
   ],
   "source": [
    "smplx_npz['lmk_bary_coords'].shape"
   ]
  },
  {
   "cell_type": "code",
   "execution_count": 26,
   "id": "38f5dc8f-763c-48c9-af2e-a091ef31fb02",
   "metadata": {},
   "outputs": [
    {
     "data": {
      "text/plain": [
       "(11313, 2)"
      ]
     },
     "execution_count": 26,
     "metadata": {},
     "output_type": "execute_result"
    }
   ],
   "source": [
    "smplx_npz['vt'].shape"
   ]
  },
  {
   "cell_type": "code",
   "execution_count": 22,
   "id": "63af2653-9263-4f21-bc6d-f3ef48479a9e",
   "metadata": {},
   "outputs": [
    {
     "data": {
      "text/plain": [
       "(10475, 3, 486)"
      ]
     },
     "execution_count": 22,
     "metadata": {},
     "output_type": "execute_result"
    }
   ],
   "source": [
    "smplx_npz['posedirs'].shape"
   ]
  },
  {
   "cell_type": "code",
   "execution_count": 23,
   "id": "74c28db5-1dd7-4e55-ad19-9a377518d821",
   "metadata": {},
   "outputs": [
    {
     "data": {
      "text/plain": [
       "array({'R_Calf': 5, 'R_Foot': 8, 'Jaw': 22, 'L_Eye': 23, 'Spine1': 6, 'L_ForeArm': 18, 'Spine2': 9, 'L_Thigh': 1, 'R_Thumb1': 52, 'R_Thumb3': 54, 'R_Thumb2': 53, 'R_UpperArm': 17, 'R_Thigh': 2, 'Head': 15, 'R_Eye': 24, 'L_Ring2': 35, 'L_Ring1': 34, 'L_Hand': 20, 'L_UpperArm': 16, 'L_Thumb3': 39, 'L_Thumb2': 38, 'L_Thumb1': 37, 'R_Ring2': 50, 'R_Ring3': 51, 'R_Ring1': 49, 'L_Index3': 27, 'L_Index2': 26, 'L_Index1': 25, 'R_Pinky1': 46, 'Neck': 12, 'L_Foot': 7, 'Spine': 3, 'R_Index3': 42, 'R_Index2': 41, 'L_Ring3': 36, 'R_Index1': 40, 'R_ForeArm': 19, 'L_Toes': 10, 'R_Middle3': 45, 'R_Middle2': 44, 'R_Middle1': 43, 'L_Pinky1': 31, 'L_Pinky2': 32, 'L_Pinky3': 33, 'L_Middle1': 28, 'L_Middle3': 30, 'L_Middle2': 29, 'R_Pinky2': 47, 'Global': 0, 'R_Pinky3': 48, 'R_Hand': 21, 'L_Shoulder': 13, 'L_Calf': 4, 'R_Shoulder': 14, 'R_Toes': 11},\n",
       "      dtype=object)"
      ]
     },
     "execution_count": 23,
     "metadata": {},
     "output_type": "execute_result"
    }
   ],
   "source": [
    "smplx_npz['part2num']"
   ]
  },
  {
   "cell_type": "code",
   "execution_count": 25,
   "id": "032e7773-fdc0-4da0-bf78-bf390449aa31",
   "metadata": {},
   "outputs": [
    {
     "data": {
      "text/plain": [
       "(1554, 45)"
      ]
     },
     "execution_count": 25,
     "metadata": {},
     "output_type": "execute_result"
    }
   ],
   "source": [
    "smplx_npz['hands_coeffsr'].shape"
   ]
  },
  {
   "cell_type": "code",
   "execution_count": 31,
   "id": "59bfec85-9464-435c-8882-17a53d90be00",
   "metadata": {},
   "outputs": [
    {
     "data": {
      "text/plain": [
       "(51,)"
      ]
     },
     "execution_count": 31,
     "metadata": {},
     "output_type": "execute_result"
    }
   ],
   "source": [
    "smplx_npz['lmk_faces_idx'].shape"
   ]
  },
  {
   "cell_type": "code",
   "execution_count": 32,
   "id": "6d7aa6bf-d077-4886-a8da-95f2d5034bf7",
   "metadata": {},
   "outputs": [
    {
     "data": {
      "text/plain": [
       "(55, 10475)"
      ]
     },
     "execution_count": 32,
     "metadata": {},
     "output_type": "execute_result"
    }
   ],
   "source": [
    "smplx_npz['J_regressor'].shape"
   ]
  },
  {
   "cell_type": "code",
   "execution_count": 33,
   "id": "46a8c22b-f7ba-4423-9392-0aae1704eb8d",
   "metadata": {},
   "outputs": [
    {
     "data": {
      "text/plain": [
       "(79, 17)"
      ]
     },
     "execution_count": 33,
     "metadata": {},
     "output_type": "execute_result"
    }
   ],
   "source": [
    "smplx_npz['dynamic_lmk_faces_idx'].shape"
   ]
  },
  {
   "cell_type": "code",
   "execution_count": 34,
   "id": "26d821bb-9d06-4799-a387-d0b425432418",
   "metadata": {},
   "outputs": [
    {
     "data": {
      "text/plain": [
       "(45, 45)"
      ]
     },
     "execution_count": 34,
     "metadata": {},
     "output_type": "execute_result"
    }
   ],
   "source": [
    "smplx_npz['hands_componentsr'].shape"
   ]
  },
  {
   "cell_type": "code",
   "execution_count": 35,
   "id": "30b11ddb-2fe2-455a-b0f7-9a30f10d3241",
   "metadata": {},
   "outputs": [
    {
     "data": {
      "text/plain": [
       "(10475, 3, 400)"
      ]
     },
     "execution_count": 35,
     "metadata": {},
     "output_type": "execute_result"
    }
   ],
   "source": [
    "smplx_npz['shapedirs'].shape"
   ]
  },
  {
   "cell_type": "code",
   "execution_count": 36,
   "id": "543fd5af-e238-4409-b33c-3528306dd2e4",
   "metadata": {},
   "outputs": [
    {
     "data": {
      "text/plain": [
       "(79, 17, 3)"
      ]
     },
     "execution_count": 36,
     "metadata": {},
     "output_type": "execute_result"
    }
   ],
   "source": [
    "smplx_npz['dynamic_lmk_bary_coords'].shape"
   ]
  },
  {
   "cell_type": "code",
   "execution_count": 37,
   "id": "85a50653-b23a-4960-85f8-0c402b7289b1",
   "metadata": {},
   "outputs": [
    {
     "data": {
      "text/plain": [
       "(20908, 3)"
      ]
     },
     "execution_count": 37,
     "metadata": {},
     "output_type": "execute_result"
    }
   ],
   "source": [
    "smplx_npz['ft'].shape"
   ]
  },
  {
   "cell_type": "code",
   "execution_count": 38,
   "id": "da61b356-fa1d-4d7c-8b40-73e28617b224",
   "metadata": {},
   "outputs": [
    {
     "data": {
      "text/plain": [
       "(45, 45)"
      ]
     },
     "execution_count": 38,
     "metadata": {},
     "output_type": "execute_result"
    }
   ],
   "source": [
    "smplx_npz['hands_componentsl'].shape"
   ]
  },
  {
   "cell_type": "code",
   "execution_count": 40,
   "id": "8f2603a5-2e93-4ccd-848c-15162947b15f",
   "metadata": {},
   "outputs": [
    {
     "data": {
      "text/plain": [
       "array({'L_Middle3': 30, 'R_Wrist': 21, 'R_Foot': 11, 'Jaw': 22, 'L_Eye': 23, 'Spine1': 3, 'Spine3': 9, 'Spine2': 6, 'R_Thumb1': 52, 'R_Thumb3': 54, 'R_Thumb2': 53, 'R_Elbow': 19, 'Head': 15, 'L_Collar': 13, 'R_Hip': 2, 'R_Eye': 24, 'L_Ring1': 34, 'L_Ring2': 35, 'L_Ring3': 36, 'L_Thumb3': 39, 'L_Thumb2': 38, 'L_Thumb1': 37, 'R_Ring2': 50, 'R_Ring3': 51, 'R_Ring1': 49, 'L_Index3': 27, 'L_Index2': 26, 'L_Index1': 25, 'R_Shoulder': 17, 'Neck': 12, 'L_Foot': 10, 'R_Index1': 40, 'R_Index3': 42, 'R_Index2': 41, 'L_Knee': 4, 'L_Elbow': 18, 'R_Middle3': 45, 'R_Middle2': 44, 'R_Middle1': 43, 'L_Pinky1': 31, 'L_Pinky2': 32, 'L_Pinky3': 33, 'L_Middle1': 28, 'R_Ankle': 8, 'R_Collar': 14, 'L_Middle2': 29, 'R_Pinky2': 47, 'L_Wrist': 20, 'R_Pinky3': 48, 'L_Shoulder': 16, 'L_Hip': 1, 'R_Knee': 5, 'Pelvis': 0, 'R_Pinky1': 46, 'L_Ankle': 7},\n",
       "      dtype=object)"
      ]
     },
     "execution_count": 40,
     "metadata": {},
     "output_type": "execute_result"
    }
   ],
   "source": [
    "smplx_npz['joint2num']"
   ]
  },
  {
   "cell_type": "code",
   "execution_count": 41,
   "id": "cc2d0a1d-9fbd-4bf7-98c9-440c4e15f9de",
   "metadata": {},
   "outputs": [
    {
     "data": {
      "text/plain": [
       "(10475, 3)"
      ]
     },
     "execution_count": 41,
     "metadata": {},
     "output_type": "execute_result"
    }
   ],
   "source": [
    "smplx_npz['v_template'].shape"
   ]
  },
  {
   "cell_type": "code",
   "execution_count": 43,
   "id": "9b0f8a90-2c40-4881-8a1a-ae99e8d70dc2",
   "metadata": {},
   "outputs": [
    {
     "data": {
      "text/plain": [
       "(20908, 3)"
      ]
     },
     "execution_count": 43,
     "metadata": {},
     "output_type": "execute_result"
    }
   ],
   "source": [
    "smplx_npz['f'].shape"
   ]
  },
  {
   "cell_type": "code",
   "execution_count": 45,
   "id": "316c1ce2-2165-4ad0-87a5-d903bd621823",
   "metadata": {},
   "outputs": [
    {
     "data": {
      "text/plain": [
       "(1554, 45)"
      ]
     },
     "execution_count": 45,
     "metadata": {},
     "output_type": "execute_result"
    }
   ],
   "source": [
    "smplx_npz['hands_coeffsl'].shape"
   ]
  },
  {
   "cell_type": "code",
   "execution_count": 48,
   "id": "0956f9bc-1568-4811-b6e0-aef220a41e37",
   "metadata": {},
   "outputs": [
    {
     "data": {
      "text/plain": [
       "array([[4294967295,          0,          0,          0,          1,\n",
       "                 2,          3,          4,          5,          6,\n",
       "                 7,          8,          9,          9,          9,\n",
       "                12,         13,         14,         16,         17,\n",
       "                18,         19,         15,         15,         15,\n",
       "                20,         25,         26,         20,         28,\n",
       "                29,         20,         31,         32,         20,\n",
       "                34,         35,         20,         37,         38,\n",
       "                21,         40,         41,         21,         43,\n",
       "                44,         21,         46,         47,         21,\n",
       "                49,         50,         21,         52,         53],\n",
       "       [         0,          1,          2,          3,          4,\n",
       "                 5,          6,          7,          8,          9,\n",
       "                10,         11,         12,         13,         14,\n",
       "                15,         16,         17,         18,         19,\n",
       "                20,         21,         22,         23,         24,\n",
       "                25,         26,         27,         28,         29,\n",
       "                30,         31,         32,         33,         34,\n",
       "                35,         36,         37,         38,         39,\n",
       "                40,         41,         42,         43,         44,\n",
       "                45,         46,         47,         48,         49,\n",
       "                50,         51,         52,         53,         54]])"
      ]
     },
     "execution_count": 48,
     "metadata": {},
     "output_type": "execute_result"
    }
   ],
   "source": [
    "smplx_npz['kintree_table']"
   ]
  },
  {
   "cell_type": "code",
   "execution_count": 49,
   "id": "c8236e1c-8c0d-4ac0-9931-454895a07a51",
   "metadata": {},
   "outputs": [
    {
     "data": {
      "text/plain": [
       "(10475, 55)"
      ]
     },
     "execution_count": 49,
     "metadata": {},
     "output_type": "execute_result"
    }
   ],
   "source": [
    "smplx_npz['weights'].shape"
   ]
  },
  {
   "cell_type": "code",
   "execution_count": null,
   "id": "6b3bead4-e058-4a5c-8eb5-2495e75c4ece",
   "metadata": {},
   "outputs": [],
   "source": []
  }
 ],
 "metadata": {
  "kernelspec": {
   "display_name": "MyFirst",
   "language": "python",
   "name": "myfirst"
  },
  "language_info": {
   "codemirror_mode": {
    "name": "ipython",
    "version": 3
   },
   "file_extension": ".py",
   "mimetype": "text/x-python",
   "name": "python",
   "nbconvert_exporter": "python",
   "pygments_lexer": "ipython3",
   "version": "3.10.14"
  }
 },
 "nbformat": 4,
 "nbformat_minor": 5
}
