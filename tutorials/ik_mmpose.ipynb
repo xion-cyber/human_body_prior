{
 "cells": [
  {
   "metadata": {
    "ExecuteTime": {
     "end_time": "2024-12-17T03:13:55.594030Z",
     "start_time": "2024-12-17T03:13:55.591168Z"
    }
   },
   "cell_type": "code",
   "source": [
    "from typing import Union\n",
    "\n",
    "import numpy as np\n",
    "import torch\n",
    "from colour import Color\n",
    "from human_body_prior.body_model.body_model import BodyModel\n",
    "from torch import nn\n",
    "\n",
    "from human_body_prior.models.ik_engine import IK_Engine\n",
    "from os import path as osp\n"
   ],
   "id": "26711eb641b42ca2",
   "outputs": [],
   "execution_count": 22
  },
  {
   "metadata": {
    "ExecuteTime": {
     "end_time": "2024-12-17T03:13:56.476914Z",
     "start_time": "2024-12-17T03:13:56.472195Z"
    }
   },
   "cell_type": "code",
   "source": [
    "class SourceKeyPoints(nn.Module):\n",
    "    def __init__(self,\n",
    "                 bm: Union[str, BodyModel],\n",
    "                 n_joints: int=24,\n",
    "                 ):\n",
    "        super(SourceKeyPoints, self).__init__()\n",
    "        \n",
    "        self.bm = BodyModel(bm, persistant_buffer=False) if isinstance(bm, str) else bm\n",
    "        self.bm_f = []\n",
    "        self.n_joints = n_joints\n",
    "        self.kpts_colors = np.array([Color('grey').rgb for _ in range(n_joints)])\n",
    "        \n",
    "    def forward(self, body_parms):\n",
    "        new_body = self.bm(**body_parms)\n",
    "        \n",
    "        return {'source_kpts': new_body.Jtr[:, :self.n_joints], 'body': new_body,\n",
    "                'params': body_parms}"
   ],
   "id": "81cd2f66bd3f8e1",
   "outputs": [],
   "execution_count": 23
  },
  {
   "metadata": {
    "ExecuteTime": {
     "end_time": "2024-12-17T03:13:57.093813Z",
     "start_time": "2024-12-17T03:13:57.091161Z"
    }
   },
   "cell_type": "code",
   "source": [
    "support_dir = '../support_data/dowloads'\n",
    "vposer_expr_dir = osp.join(support_dir,'vposer_v2_05')\n",
    "bm_fname =  osp.join(support_dir,'/home/yeyiqi/Documents/models/SMPLX/models_smplx_v1_1/models/smplx/SMPLX_NEUTRAL.npz')\n",
    "n_joints = 24\n",
    "comp_device = torch.device(\"cuda\" if torch.cuda.is_available() else \"cpu\")\n"
   ],
   "id": "ce0cce6f8a189aaf",
   "outputs": [],
   "execution_count": 24
  },
  {
   "metadata": {
    "ExecuteTime": {
     "end_time": "2024-12-17T03:13:57.621345Z",
     "start_time": "2024-12-17T03:13:57.561566Z"
    }
   },
   "cell_type": "code",
   "source": [
    "data_loss = torch.nn.MSELoss(reduction='sum')\n",
    "stepwise_weights = [\n",
    "    {\n",
    "        'data':10,\n",
    "        'Poz_body':.01,\n",
    "        'betas':.5\n",
    "    }\n",
    "]\n",
    "optimizer_args = {\n",
    "    'type':'LBFGS',\n",
    "    'max_iter':300,\n",
    "    'lr':1,\n",
    "    'tolerance_change':1e-4,\n",
    "    'history_size':200\n",
    "}\n",
    "ik_engine = IK_Engine(\n",
    "    vposer_expr_dir=vposer_expr_dir,\n",
    "    verbosity=2,\n",
    "    display_rc=(2, 2),\n",
    "    data_loss=data_loss,\n",
    "    stepwise_weights=stepwise_weights,\n",
    "    optimizer_args=optimizer_args\n",
    ").to(comp_device)"
   ],
   "id": "a87ba2042e0ddd8b",
   "outputs": [
    {
     "name": "stderr",
     "output_type": "stream",
     "text": [
      "\u001B[32m2024-12-17 11:13:57.618\u001B[0m | \u001B[1mINFO    \u001B[0m | \u001B[36mhuman_body_prior.tools.model_loader\u001B[0m:\u001B[36mload_model\u001B[0m:\u001B[36m97\u001B[0m - \u001B[1mLoaded model in eval mode with trained weights: ../support_data/dowloads/vposer_v2_05/snapshots/vposer_v2_05.ckpt\u001B[0m\n"
     ]
    }
   ],
   "execution_count": 25
  },
  {
   "metadata": {
    "ExecuteTime": {
     "end_time": "2024-12-17T03:13:59.071315Z",
     "start_time": "2024-12-17T03:13:58.073376Z"
    }
   },
   "cell_type": "code",
   "source": "source_pts = SourceKeyPoints(bm=bm_fname, n_joints=n_joints).to(comp_device)",
   "id": "bf9e41e0a9555512",
   "outputs": [],
   "execution_count": 26
  },
  {
   "metadata": {
    "ExecuteTime": {
     "end_time": "2024-12-17T03:13:59.645481Z",
     "start_time": "2024-12-17T03:13:59.642037Z"
    }
   },
   "cell_type": "code",
   "source": "source_pts",
   "id": "abcda809597687c6",
   "outputs": [
    {
     "data": {
      "text/plain": [
       "SourceKeyPoints(\n",
       "  (bm): BodyModel()\n",
       ")"
      ]
     },
     "execution_count": 27,
     "metadata": {},
     "output_type": "execute_result"
    }
   ],
   "execution_count": 27
  },
  {
   "metadata": {
    "ExecuteTime": {
     "end_time": "2024-12-17T03:14:00.244365Z",
     "start_time": "2024-12-17T03:14:00.242265Z"
    }
   },
   "cell_type": "code",
   "source": [
    "sample_amass = {\n",
    "    'poses':torch.zeros(1, 66).type(torch.float),\n",
    "    'trans':torch.zeros(1, 3).type(torch.float)\n",
    "}"
   ],
   "id": "94effacd3d17a14e",
   "outputs": [],
   "execution_count": 28
  },
  {
   "metadata": {
    "ExecuteTime": {
     "end_time": "2024-12-17T03:14:02.069020Z",
     "start_time": "2024-12-17T03:14:01.082895Z"
    }
   },
   "cell_type": "code",
   "source": [
    "target_bm = BodyModel(bm_fname)(**{\n",
    "    'pose_body': torch.tensor(sample_amass['poses'][:,3:66]).type(torch.float),\n",
    "    'root_orient': torch.tensor(sample_amass['poses'][:,:3]).type(torch.float),\n",
    "    'trans': torch.tensor(sample_amass['trans']).type(torch.float)\n",
    "})"
   ],
   "id": "f082671b1db269ef",
   "outputs": [
    {
     "name": "stderr",
     "output_type": "stream",
     "text": [
      "/home/yeyiqi/.conda/envs/Vposer/lib/python3.7/site-packages/ipykernel_launcher.py:2: UserWarning: To copy construct from a tensor, it is recommended to use sourceTensor.clone().detach() or sourceTensor.clone().detach().requires_grad_(True), rather than torch.tensor(sourceTensor).\n",
      "  \n",
      "/home/yeyiqi/.conda/envs/Vposer/lib/python3.7/site-packages/ipykernel_launcher.py:3: UserWarning: To copy construct from a tensor, it is recommended to use sourceTensor.clone().detach() or sourceTensor.clone().detach().requires_grad_(True), rather than torch.tensor(sourceTensor).\n",
      "  This is separate from the ipykernel package so we can avoid doing imports until\n",
      "/home/yeyiqi/.conda/envs/Vposer/lib/python3.7/site-packages/ipykernel_launcher.py:4: UserWarning: To copy construct from a tensor, it is recommended to use sourceTensor.clone().detach() or sourceTensor.clone().detach().requires_grad_(True), rather than torch.tensor(sourceTensor).\n",
      "  after removing the cwd from sys.path.\n"
     ]
    }
   ],
   "execution_count": 29
  },
  {
   "metadata": {
    "ExecuteTime": {
     "end_time": "2024-12-17T03:14:02.421070Z",
     "start_time": "2024-12-17T03:14:02.417438Z"
    }
   },
   "cell_type": "code",
   "source": "target_bm.Jtr",
   "id": "37dd42d6d9e56e96",
   "outputs": [
    {
     "data": {
      "text/plain": [
       "tensor([[[ 3.1233e-03, -3.5141e-01,  1.2037e-02],\n",
       "         [ 6.1313e-02, -4.4417e-01, -1.3965e-02],\n",
       "         [-6.0144e-02, -4.5532e-01, -9.2138e-03],\n",
       "         [ 3.6057e-04, -2.4152e-01, -1.5581e-02],\n",
       "         [ 1.1601e-01, -8.2292e-01, -2.3361e-02],\n",
       "         [-1.0435e-01, -8.1770e-01, -2.6038e-02],\n",
       "         [ 9.8083e-03, -1.0966e-01, -2.1521e-02],\n",
       "         [ 7.2555e-02, -1.2260e+00, -5.5237e-02],\n",
       "         [-8.8937e-02, -1.2284e+00, -4.6230e-02],\n",
       "         [-1.5222e-03, -5.7428e-02,  6.9258e-03],\n",
       "         [ 1.1981e-01, -1.2840e+00,  6.2980e-02],\n",
       "         [-1.2775e-01, -1.2868e+00,  7.2819e-02],\n",
       "         [-1.3687e-02,  1.0774e-01, -2.4690e-02],\n",
       "         [ 4.4842e-02,  2.7515e-02, -2.9465e-04],\n",
       "         [-4.9217e-02,  2.6910e-02, -6.4741e-03],\n",
       "         [ 1.1097e-02,  2.6819e-01, -3.9522e-03],\n",
       "         [ 1.6408e-01,  8.5243e-02, -1.5756e-02],\n",
       "         [-1.5179e-01,  8.0435e-02, -1.9143e-02],\n",
       "         [ 4.1820e-01,  1.3093e-02, -5.8214e-02],\n",
       "         [-4.2294e-01,  4.3942e-02, -4.5610e-02],\n",
       "         [ 6.7019e-01,  3.6314e-02, -6.0687e-02],\n",
       "         [-6.7221e-01,  3.9410e-02, -6.0935e-02],\n",
       "         [-4.6678e-03,  2.6767e-01, -9.5914e-03],\n",
       "         [ 3.1599e-02,  3.1083e-01,  6.2195e-02],\n",
       "         [-3.1600e-02,  3.1083e-01,  6.2194e-02],\n",
       "         [ 7.7209e-01,  2.7626e-02, -4.1335e-02],\n",
       "         [ 8.0404e-01,  2.9844e-02, -3.8325e-02],\n",
       "         [ 8.2659e-01,  2.7494e-02, -3.8270e-02],\n",
       "         [ 7.7959e-01,  2.9986e-02, -6.4667e-02],\n",
       "         [ 8.1020e-01,  3.0794e-02, -6.8690e-02],\n",
       "         [ 8.3371e-01,  2.8785e-02, -7.2804e-02],\n",
       "         [ 7.5424e-01,  2.1775e-02, -1.0444e-01],\n",
       "         [ 7.6971e-01,  2.0643e-02, -1.1644e-01],\n",
       "         [ 7.8524e-01,  1.8979e-02, -1.2765e-01],\n",
       "         [ 7.6763e-01,  2.7046e-02, -8.8031e-02],\n",
       "         [ 7.9568e-01,  2.8532e-02, -9.3297e-02],\n",
       "         [ 8.1850e-01,  2.7074e-02, -1.0039e-01],\n",
       "         [ 7.1083e-01,  1.8337e-02, -3.5076e-02],\n",
       "         [ 7.2784e-01,  1.9313e-02, -1.0098e-02],\n",
       "         [ 7.4837e-01,  1.4154e-02,  5.4256e-03],\n",
       "         [-7.7209e-01,  2.7627e-02, -4.1335e-02],\n",
       "         [-8.0404e-01,  2.9845e-02, -3.8324e-02],\n",
       "         [-8.2659e-01,  2.7495e-02, -3.8269e-02],\n",
       "         [-7.7959e-01,  2.9988e-02, -6.4669e-02],\n",
       "         [-8.1020e-01,  3.0795e-02, -6.8692e-02],\n",
       "         [-8.3371e-01,  2.8786e-02, -7.2806e-02],\n",
       "         [-7.5424e-01,  2.1775e-02, -1.0444e-01],\n",
       "         [-7.6971e-01,  2.0643e-02, -1.1644e-01],\n",
       "         [-7.8524e-01,  1.8978e-02, -1.2765e-01],\n",
       "         [-7.6764e-01,  2.7048e-02, -8.8034e-02],\n",
       "         [-7.9568e-01,  2.8533e-02, -9.3300e-02],\n",
       "         [-8.1850e-01,  2.7074e-02, -1.0039e-01],\n",
       "         [-7.1082e-01,  1.8335e-02, -3.5074e-02],\n",
       "         [-7.2784e-01,  1.9311e-02, -1.0096e-02],\n",
       "         [-7.4837e-01,  1.4154e-02,  5.4256e-03]]])"
      ]
     },
     "execution_count": 30,
     "metadata": {},
     "output_type": "execute_result"
    }
   ],
   "execution_count": 30
  },
  {
   "metadata": {
    "ExecuteTime": {
     "end_time": "2024-12-17T03:14:04.733235Z",
     "start_time": "2024-12-17T03:14:03.663745Z"
    }
   },
   "cell_type": "code",
   "source": [
    "source_pts = SourceKeyPoints(bm=bm_fname, n_joints=24).to(comp_device)\n",
    "target_pts = target_bm.Jtr[:, :n_joints].detach().to(comp_device)\n",
    "ik_res = ik_engine(source_pts, target_pts)"
   ],
   "id": "29a2fc05ee0c3b0a",
   "outputs": [
    {
     "name": "stderr",
     "output_type": "stream",
     "text": [
      "it 1 -- [total loss = 4.11e-02] - data = 4.11e-02 | betas = 1.19e-05\n",
      "it 2 -- [total loss = 4.84e+01] - data = 4.84e+01 | betas = 5.13e-05\n",
      "it 3 -- [total loss = 3.67e-02] - data = 3.67e-02 | betas = 1.22e-05\n",
      "it 4 -- [total loss = 3.58e-02] - data = 3.58e-02 | betas = 1.27e-05\n",
      "it 5 -- [total loss = 2.92e-02] - data = 2.92e-02 | betas = 1.84e-05\n",
      "it 6 -- [total loss = 2.68e-02] - data = 2.68e-02 | betas = 3.75e-05\n",
      "it 7 -- [total loss = 2.38e-02] - data = 2.38e-02 | betas = 3.90e-05\n",
      "it 8 -- [total loss = 2.31e-02] - data = 2.31e-02 | betas = 3.75e-05\n",
      "it 9 -- [total loss = 2.28e-02] - data = 2.28e-02 | betas = 3.83e-05\n"
     ]
    }
   ],
   "execution_count": 31
  },
  {
   "metadata": {
    "ExecuteTime": {
     "end_time": "2024-12-17T03:14:12.868827Z",
     "start_time": "2024-12-17T03:14:12.866257Z"
    }
   },
   "cell_type": "code",
   "source": "ik_res_detached = {k: v.detach() for k, v in ik_res.items()}",
   "id": "d753ada69ec77112",
   "outputs": [],
   "execution_count": 32
  },
  {
   "metadata": {
    "ExecuteTime": {
     "end_time": "2024-12-17T03:14:13.799564Z",
     "start_time": "2024-12-17T03:14:13.792957Z"
    }
   },
   "cell_type": "code",
   "source": "ik_res_detached",
   "id": "7d24cabddb8d1c63",
   "outputs": [
    {
     "data": {
      "text/plain": [
       "{'trans': tensor([[ 0.0022, -0.0002, -0.0027]], device='cuda:0'),\n",
       " 'betas': tensor([[ 8.4177e-03, -1.7537e-03, -2.2522e-04,  7.1737e-04, -1.3587e-03,\n",
       "          -1.1679e-04,  8.3314e-05,  4.1969e-04, -2.4188e-05,  2.1266e-04]],\n",
       "        device='cuda:0'),\n",
       " 'root_orient': tensor([[-0.0202,  0.0007, -0.0023]], device='cuda:0'),\n",
       " 'poZ_body': tensor([[ 8.6341e-01, -1.7323e-01, -2.2442e-01, -4.9408e-01,  4.3026e-01,\n",
       "           3.4344e-01,  4.8484e-01,  3.3179e-01, -2.6103e-01, -1.5467e-03,\n",
       "          -3.3897e-01, -4.5619e-01,  2.6115e-01,  1.8094e-01,  5.0699e-04,\n",
       "           2.2413e-01,  5.6722e-03, -9.9848e-02,  4.7442e-01, -2.3238e+00,\n",
       "          -1.0477e+00, -4.8793e-01, -8.4189e-02, -1.2253e-03,  3.8270e-03,\n",
       "          -8.2918e-01, -4.2611e-02, -4.6918e-01, -2.5755e-02, -2.9061e-01,\n",
       "          -3.1770e-01,  2.9578e-03]], device='cuda:0'),\n",
       " 'pose_body': tensor([[ 2.9855e-02,  3.5898e-02,  3.7896e-03, -4.1665e-02, -4.6016e-02,\n",
       "           2.8517e-04,  1.1198e-01,  1.4137e-02,  1.6627e-02, -1.0851e-02,\n",
       "          -2.3887e-01, -1.9302e-02,  8.0059e-02,  1.9885e-01,  8.4225e-03,\n",
       "          -1.3573e-01, -2.8284e-02, -1.1631e-02, -1.0511e-01,  2.8337e-01,\n",
       "           5.2589e-03, -1.0714e-01, -2.6383e-01,  8.5824e-02,  2.5857e-02,\n",
       "          -1.6623e-03,  1.8529e-02, -1.0804e-04, -6.5067e-05,  7.1824e-05,\n",
       "          -6.9104e-05,  8.5241e-05, -1.7283e-04,  3.0376e-02, -2.2023e-02,\n",
       "          -5.3058e-02, -8.5474e-02,  8.7987e-02, -2.9228e-02, -5.4618e-02,\n",
       "          -5.6705e-02,  1.5117e-02, -5.6297e-02,  4.1148e-02,  9.2197e-02,\n",
       "          -1.7463e-01, -3.8588e-02,  3.8973e-02, -2.0320e-01,  2.3488e-02,\n",
       "          -6.5339e-02, -8.7399e-02, -7.5069e-02, -6.1327e-02, -1.6341e-01,\n",
       "           1.2108e-01, -1.5116e-02,  1.4749e-01, -1.5996e-01, -1.0918e-01,\n",
       "           9.0204e-02,  8.7372e-02,  1.0084e-01]], device='cuda:0')}"
      ]
     },
     "execution_count": 33,
     "metadata": {},
     "output_type": "execute_result"
    }
   ],
   "execution_count": 33
  },
  {
   "metadata": {
    "ExecuteTime": {
     "end_time": "2024-12-16T08:51:42.597425Z",
     "start_time": "2024-12-16T08:51:42.584567Z"
    }
   },
   "cell_type": "code",
   "source": "nan_mask = torch.isnan(ik_res_detached['trans']).sum(-1) != 0",
   "id": "c0a62f640d673248",
   "outputs": [],
   "execution_count": 14
  },
  {
   "metadata": {
    "ExecuteTime": {
     "end_time": "2024-12-16T08:51:55.104063Z",
     "start_time": "2024-12-16T08:51:55.102006Z"
    }
   },
   "cell_type": "code",
   "source": "if nan_mask.sum() != 0: raise ValueError('Sum results were NaN!')",
   "id": "d1fa7ff8e3a62691",
   "outputs": [],
   "execution_count": 15
  },
  {
   "metadata": {
    "ExecuteTime": {
     "end_time": "2024-12-16T08:51:59.388097Z",
     "start_time": "2024-12-16T08:51:59.385059Z"
    }
   },
   "cell_type": "code",
   "source": "nan_mask",
   "id": "12fd0ed2ac9a4e76",
   "outputs": [
    {
     "data": {
      "text/plain": [
       "tensor([False, False, False, False], device='cuda:0')"
      ]
     },
     "execution_count": 16,
     "metadata": {},
     "output_type": "execute_result"
    }
   ],
   "execution_count": 16
  },
  {
   "metadata": {
    "ExecuteTime": {
     "end_time": "2024-12-16T08:53:08.501847Z",
     "start_time": "2024-12-16T08:53:08.499507Z"
    }
   },
   "cell_type": "code",
   "source": "target_pts.shape",
   "id": "c7756a488d0558c",
   "outputs": [
    {
     "data": {
      "text/plain": [
       "torch.Size([1, 24, 3])"
      ]
     },
     "execution_count": 19,
     "metadata": {},
     "output_type": "execute_result"
    }
   ],
   "execution_count": 19
  },
  {
   "metadata": {
    "ExecuteTime": {
     "end_time": "2024-12-17T01:56:51.916749Z",
     "start_time": "2024-12-17T01:56:51.912899Z"
    }
   },
   "cell_type": "code",
   "source": "res = source_pts.bm.forward()",
   "id": "6c45256ae0fa2f71",
   "outputs": [],
   "execution_count": 17
  },
  {
   "metadata": {
    "ExecuteTime": {
     "end_time": "2024-12-17T01:57:21.222660Z",
     "start_time": "2024-12-17T01:57:21.219319Z"
    }
   },
   "cell_type": "code",
   "source": "res.full_pose",
   "id": "cedcf920a248e844",
   "outputs": [
    {
     "data": {
      "text/plain": [
       "tensor([[0., 0., 0., 0., 0., 0., 0., 0., 0., 0., 0., 0., 0., 0., 0., 0., 0., 0., 0., 0., 0., 0., 0., 0.,\n",
       "         0., 0., 0., 0., 0., 0., 0., 0., 0., 0., 0., 0., 0., 0., 0., 0., 0., 0., 0., 0., 0., 0., 0., 0.,\n",
       "         0., 0., 0., 0., 0., 0., 0., 0., 0., 0., 0., 0., 0., 0., 0., 0., 0., 0., 0., 0., 0., 0., 0., 0.,\n",
       "         0., 0., 0., 0., 0., 0., 0., 0., 0., 0., 0., 0., 0., 0., 0., 0., 0., 0., 0., 0., 0., 0., 0., 0.,\n",
       "         0., 0., 0., 0., 0., 0., 0., 0., 0., 0., 0., 0., 0., 0., 0., 0., 0., 0., 0., 0., 0., 0., 0., 0.,\n",
       "         0., 0., 0., 0., 0., 0., 0., 0., 0., 0., 0., 0., 0., 0., 0., 0., 0., 0., 0., 0., 0., 0., 0., 0.,\n",
       "         0., 0., 0., 0., 0., 0., 0., 0., 0., 0., 0., 0., 0., 0., 0., 0., 0., 0., 0., 0., 0.]],\n",
       "       device='cuda:0')"
      ]
     },
     "execution_count": 21,
     "metadata": {},
     "output_type": "execute_result"
    }
   ],
   "execution_count": 21
  },
  {
   "metadata": {},
   "cell_type": "code",
   "outputs": [],
   "execution_count": null,
   "source": "",
   "id": "9f5d9eca4d1b9429"
  }
 ],
 "metadata": {
  "kernelspec": {
   "display_name": "Python 3",
   "language": "python",
   "name": "python3"
  },
  "language_info": {
   "codemirror_mode": {
    "name": "ipython",
    "version": 2
   },
   "file_extension": ".py",
   "mimetype": "text/x-python",
   "name": "python",
   "nbconvert_exporter": "python",
   "pygments_lexer": "ipython2",
   "version": "2.7.6"
  }
 },
 "nbformat": 4,
 "nbformat_minor": 5
}
