from typing import Union

import numpy as np
import torch
from human_body_prior.body_model.body_model import BodyModel
from torch import nn
from human_body_prior.models.ik_engine import IK_Engine
from os import path as osp

from tutorials.ik_example_joints import vposer_expr_dir, stepwise_weights, ik_engine



class SourceKeyPoints(nn.Module):
    def __init__(self,
                 bm: Union[str, BodyModel],
                 n_joints: int=24,
                 ):
        super(SourceKeyPoints, self).__init__()
        
        self.bm = BodyModel(bm, persistant_buffer=False) if isinstance(bm, str) else bm
        self.bm_f = []
        self.n_joints = n_joints
        
    def forward(self, body_parms):
        new_body = self.bm(**body_parms)
        
        return {'source_kpts': new_body.Jtr[:, :self.n_joints], 'body': new_body}


support_dir = '../support_data/dowloads'
vposer_expr_dir = osp.join(support_dir,'vposer_v2_05')
bm_fname =  osp.join(support_dir,'/home/yeyiqi/Documents/models/SMPLX/models_smplx_v1_1/models/smplx/SMPLX_NEUTRAL.npz')
comp_device = torch.device("cuda" if torch.cuda.is_available() else "cpu")



data_loss = torch.nn.MSELoss(reduction='sum')
stepwise_weights = [
    {
        'data':10,
        'Poz_body':.01,
        'betas':.5
    }
]
optimizer_args = {
    'type':'LBFGS',
    'max_iter':300,
    'lr':1,
    'tolerance_change':1e-4,
    'history_size':200
}
ik_engine = IK_Engine(
    vposer_expr_dir=vposer_expr_dir,
    verbosity=2,
    display_rc=(2, 2),
    data_loss=data_loss,
    stepwise_weights=stepwise_weights,
    optimizer_args=optimizer_args
).to(comp_device)


source_pts = SourceKeyPoints(bm=bm_fname, n_joints=24).to(comp_device)


source_pts


sample_amass = {
    'poses':torch.zeros(1, 66).type(torch.float),
    'trans':torch.zeros(1, 3).type(torch.float)
}


target_bm = BodyModel(bm_fname)(**{
    'pose_body': torch.tensor(sample_amass['poses'][:,3:66]).type(torch.float),
    'root_orient': torch.tensor(sample_amass['poses'][:,:3]).type(torch.float),
    'trans': torch.tensor(sample_amass['trans']).type(torch.float),
})






